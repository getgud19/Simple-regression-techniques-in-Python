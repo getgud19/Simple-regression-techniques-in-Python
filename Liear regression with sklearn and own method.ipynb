{
 "cells": [
  {
   "cell_type": "code",
   "execution_count": 62,
   "id": "7eb0cf95",
   "metadata": {},
   "outputs": [
    {
     "data": {
      "text/html": [
       "<div>\n",
       "<style scoped>\n",
       "    .dataframe tbody tr th:only-of-type {\n",
       "        vertical-align: middle;\n",
       "    }\n",
       "\n",
       "    .dataframe tbody tr th {\n",
       "        vertical-align: top;\n",
       "    }\n",
       "\n",
       "    .dataframe thead th {\n",
       "        text-align: right;\n",
       "    }\n",
       "</style>\n",
       "<table border=\"1\" class=\"dataframe\">\n",
       "  <thead>\n",
       "    <tr style=\"text-align: right;\">\n",
       "      <th></th>\n",
       "      <th>Gender</th>\n",
       "      <th>Height</th>\n",
       "      <th>Weight</th>\n",
       "    </tr>\n",
       "  </thead>\n",
       "  <tbody>\n",
       "    <tr>\n",
       "      <th>0</th>\n",
       "      <td>Male</td>\n",
       "      <td>73.847017</td>\n",
       "      <td>241.893563</td>\n",
       "    </tr>\n",
       "    <tr>\n",
       "      <th>1</th>\n",
       "      <td>Male</td>\n",
       "      <td>68.781904</td>\n",
       "      <td>162.310473</td>\n",
       "    </tr>\n",
       "    <tr>\n",
       "      <th>2</th>\n",
       "      <td>Male</td>\n",
       "      <td>74.110105</td>\n",
       "      <td>212.740856</td>\n",
       "    </tr>\n",
       "    <tr>\n",
       "      <th>3</th>\n",
       "      <td>Male</td>\n",
       "      <td>71.730978</td>\n",
       "      <td>220.042470</td>\n",
       "    </tr>\n",
       "    <tr>\n",
       "      <th>4</th>\n",
       "      <td>Male</td>\n",
       "      <td>69.881796</td>\n",
       "      <td>206.349801</td>\n",
       "    </tr>\n",
       "    <tr>\n",
       "      <th>...</th>\n",
       "      <td>...</td>\n",
       "      <td>...</td>\n",
       "      <td>...</td>\n",
       "    </tr>\n",
       "    <tr>\n",
       "      <th>195</th>\n",
       "      <td>Male</td>\n",
       "      <td>72.294743</td>\n",
       "      <td>208.474866</td>\n",
       "    </tr>\n",
       "    <tr>\n",
       "      <th>196</th>\n",
       "      <td>Male</td>\n",
       "      <td>67.253325</td>\n",
       "      <td>180.779780</td>\n",
       "    </tr>\n",
       "    <tr>\n",
       "      <th>197</th>\n",
       "      <td>Male</td>\n",
       "      <td>75.944460</td>\n",
       "      <td>231.924749</td>\n",
       "    </tr>\n",
       "    <tr>\n",
       "      <th>198</th>\n",
       "      <td>Male</td>\n",
       "      <td>66.316232</td>\n",
       "      <td>170.593858</td>\n",
       "    </tr>\n",
       "    <tr>\n",
       "      <th>199</th>\n",
       "      <td>Male</td>\n",
       "      <td>71.156053</td>\n",
       "      <td>188.271456</td>\n",
       "    </tr>\n",
       "  </tbody>\n",
       "</table>\n",
       "<p>200 rows × 3 columns</p>\n",
       "</div>"
      ],
      "text/plain": [
       "    Gender     Height      Weight\n",
       "0     Male  73.847017  241.893563\n",
       "1     Male  68.781904  162.310473\n",
       "2     Male  74.110105  212.740856\n",
       "3     Male  71.730978  220.042470\n",
       "4     Male  69.881796  206.349801\n",
       "..     ...        ...         ...\n",
       "195   Male  72.294743  208.474866\n",
       "196   Male  67.253325  180.779780\n",
       "197   Male  75.944460  231.924749\n",
       "198   Male  66.316232  170.593858\n",
       "199   Male  71.156053  188.271456\n",
       "\n",
       "[200 rows x 3 columns]"
      ]
     },
     "execution_count": 62,
     "metadata": {},
     "output_type": "execute_result"
    }
   ],
   "source": [
    "import pandas as pd\n",
    "import numpy as np\n",
    "#for visualising\n",
    "import matplotlib.pyplot as plt\n",
    "import matplotlib.style as style\n",
    "from statistics import mean\n",
    "from sklearn import linear_model\n",
    "\n",
    "def best_fit_line(xs,ys):\n",
    "    slope = (((mean(xs)* mean(ys)) - mean(xs*ys))/(mean(xs*mean(xs))-mean(xs*xs)))\n",
    "    y_intercept = mean(ys) - slope *mean(xs)\n",
    "    return slope, y_intercept\n",
    "df = pd.read_csv(\"weight-height.csv\")\n",
    "male_df =df[df[\"Gender\"] == \"Male\"][:200]\n",
    "male_df\n"
   ]
  },
  {
   "cell_type": "code",
   "execution_count": 66,
   "id": "b3363312",
   "metadata": {
    "scrolled": true
   },
   "outputs": [
    {
     "name": "stdout",
     "output_type": "stream",
     "text": [
      "175.25\n"
     ]
    },
    {
     "data": {
      "image/png": "[encoded data removed]",
      "text/plain": [
       "<Figure size 576x396 with 1 Axes>"
      ]
     },
     "metadata": {},
     "output_type": "display_data"
    }
   ],
   "source": [
    "male_df[\"Height\"] = male_df[\"Height\"].apply(lambda x: x*2.54)\n",
    "male_df[\"Weight\"] = male_df[\"Weight\"].apply(lambda x: x*0.45359273)\n",
    "height_list = male_df[\"Height\"].tolist()\n",
    "weight_list = male_df[\"Weight\"].tolist()\n",
    "#conver to numpy list\n",
    "xs = np.array(height_list, dtype=np.float64)\n",
    "ys = np.array(weight_list, dtype=np.float64)\n",
    "#plot outputs\n",
    "style.use(\"seaborn\") #enchance contrast\n",
    "plt.scatter(xs,ys,label=\"Data Points\", alpha=0.6,color=\"g\", s=75)\n",
    "plt.scatter(average_man_height, average_man_weight, label=\"average man prediction\", color=\"red\")\n",
    "plt.plot(xs, regression_line, label=\"Best fit line\", color='orange', linewidth =4)\n",
    "plt.title(\"Height and weight linear regression\")\n",
    "plt.xlabel(\"Heihgt(cm)\")\n",
    "plt.ylabel(\"Weight(kg)\")\n",
    "plt.legend()\n",
    "print (average_man_height)"
   ]
  },
  {
   "cell_type": "markdown",
   "id": "dd310920",
   "metadata": {},
   "source": [
    "# Calculate slope\n"
   ]
  },
  {
   "cell_type": "code",
   "execution_count": 60,
   "id": "4d9b05b1",
   "metadata": {},
   "outputs": [],
   "source": [
    "#1st method own function\n",
    "#calculated slope and y-intercept of the lists\n",
    "#slope, y_intercept = best_fit_line(xs,ys)\n",
    "#get the regression line from the calculated slope and y-intercept\n",
    "#regression_line =[(slope * x)  + y_intercept for x in xs] \n",
    "#making predictions\n",
    "#average_man_height = 175.25\n",
    "#average_man_weight = (slope * average_man_height) + y_intercept"
   ]
  },
  {
   "cell_type": "code",
   "execution_count": 70,
   "id": "d8fcf058",
   "metadata": {},
   "outputs": [
    {
     "name": "stdout",
     "output_type": "stream",
     "text": [
      "76.08134315579498\n"
     ]
    }
   ],
   "source": [
    "#2nd method\n",
    "height_weight = linear_model.LinearRegression()\n",
    "#train model\n",
    "height_weight.fit(xs.reshape(-1,1),ys)\n",
    "\n",
    "regression_line = height_weight.predict(xs.reshape(-1,1))\n",
    "#making predicitions\n",
    "T1_height = 167\n",
    "T1_weight = height_weight.predict(np.array([[T1_height]]))[0]\n",
    "print(T1_weight)"
   ]
  },
  {
   "cell_type": "code",
   "execution_count": null,
   "id": "4f123425",
   "metadata": {},
   "outputs": [],
   "source": []
  }
 ],
 "metadata": {
  "kernelspec": {
   "display_name": "Python 3 (ipykernel)",
   "language": "python",
   "name": "python3"
  },
  "language_info": {
   "codemirror_mode": {
    "name": "ipython",
    "version": 3
   },
   "file_extension": ".py",
   "mimetype": "text/x-python",
   "name": "python",
   "nbconvert_exporter": "python",
   "pygments_lexer": "ipython3",
   "version": "3.9.7"
  }
 },
 "nbformat": 4,
 "nbformat_minor": 5
}
