{
 "cells": [
  {
   "cell_type": "code",
   "execution_count": 24,
   "id": "11610b53",
   "metadata": {},
   "outputs": [],
   "source": [
    "import numpy as np\n",
    "import pandas as pd\n",
    "import pandas_datareader as pdr\n",
    "import matplotlib.pyplot as plt\n",
    "import seaborn as sb\n",
    "sb.set()\n",
    "import datetime as dt\n",
    "\n",
    "import yfinance as yf\n",
    "yf.pdr_override()\n",
    "from datetime import datetime"
   ]
  },
  {
   "cell_type": "code",
   "execution_count": 35,
   "id": "ee826543",
   "metadata": {},
   "outputs": [],
   "source": [
    "stocks = \"GOOG SPY\".split()\n",
    "start =dt.date.today() - dt.timedelta(365)"
   ]
  },
  {
   "cell_type": "code",
   "execution_count": 38,
   "id": "be52fa0c",
   "metadata": {
    "scrolled": true
   },
   "outputs": [
    {
     "name": "stdout",
     "output_type": "stream",
     "text": [
      "[*********************100%***********************]  2 of 2 completed\n"
     ]
    },
    {
     "data": {
      "text/html": [
       "<div>\n",
       "<style scoped>\n",
       "    .dataframe tbody tr th:only-of-type {\n",
       "        vertical-align: middle;\n",
       "    }\n",
       "\n",
       "    .dataframe tbody tr th {\n",
       "        vertical-align: top;\n",
       "    }\n",
       "\n",
       "    .dataframe thead th {\n",
       "        text-align: right;\n",
       "    }\n",
       "</style>\n",
       "<table border=\"1\" class=\"dataframe\">\n",
       "  <thead>\n",
       "    <tr style=\"text-align: right;\">\n",
       "      <th></th>\n",
       "      <th>GOOG</th>\n",
       "      <th>SPY</th>\n",
       "    </tr>\n",
       "    <tr>\n",
       "      <th>Date</th>\n",
       "      <th></th>\n",
       "      <th></th>\n",
       "    </tr>\n",
       "  </thead>\n",
       "  <tbody>\n",
       "    <tr>\n",
       "      <th>2022-02-17 00:00:00-05:00</th>\n",
       "      <td>132.308502</td>\n",
       "      <td>437.059998</td>\n",
       "    </tr>\n",
       "    <tr>\n",
       "      <th>2022-02-18 00:00:00-05:00</th>\n",
       "      <td>130.467499</td>\n",
       "      <td>434.230011</td>\n",
       "    </tr>\n",
       "    <tr>\n",
       "      <th>2022-02-22 00:00:00-05:00</th>\n",
       "      <td>129.402496</td>\n",
       "      <td>429.570007</td>\n",
       "    </tr>\n",
       "    <tr>\n",
       "      <th>2022-02-23 00:00:00-05:00</th>\n",
       "      <td>127.584999</td>\n",
       "      <td>421.950012</td>\n",
       "    </tr>\n",
       "    <tr>\n",
       "      <th>2022-02-24 00:00:00-05:00</th>\n",
       "      <td>132.673492</td>\n",
       "      <td>428.299988</td>\n",
       "    </tr>\n",
       "  </tbody>\n",
       "</table>\n",
       "</div>"
      ],
      "text/plain": [
       "                                 GOOG         SPY\n",
       "Date                                             \n",
       "2022-02-17 00:00:00-05:00  132.308502  437.059998\n",
       "2022-02-18 00:00:00-05:00  130.467499  434.230011\n",
       "2022-02-22 00:00:00-05:00  129.402496  429.570007\n",
       "2022-02-23 00:00:00-05:00  127.584999  421.950012\n",
       "2022-02-24 00:00:00-05:00  132.673492  428.299988"
      ]
     },
     "execution_count": 38,
     "metadata": {},
     "output_type": "execute_result"
    }
   ],
   "source": [
    "data = pdr.get_data_yahoo(stocks, start)[\"Close\"]\n",
    "data.head()"
   ]
  },
  {
   "cell_type": "code",
   "execution_count": 39,
   "id": "224fe484",
   "metadata": {},
   "outputs": [
    {
     "data": {
      "text/html": [
       "<div>\n",
       "<style scoped>\n",
       "    .dataframe tbody tr th:only-of-type {\n",
       "        vertical-align: middle;\n",
       "    }\n",
       "\n",
       "    .dataframe tbody tr th {\n",
       "        vertical-align: top;\n",
       "    }\n",
       "\n",
       "    .dataframe thead th {\n",
       "        text-align: right;\n",
       "    }\n",
       "</style>\n",
       "<table border=\"1\" class=\"dataframe\">\n",
       "  <thead>\n",
       "    <tr style=\"text-align: right;\">\n",
       "      <th></th>\n",
       "      <th>GOOG</th>\n",
       "      <th>SPY</th>\n",
       "    </tr>\n",
       "    <tr>\n",
       "      <th>Date</th>\n",
       "      <th></th>\n",
       "      <th></th>\n",
       "    </tr>\n",
       "  </thead>\n",
       "  <tbody>\n",
       "    <tr>\n",
       "      <th>2022-02-17 00:00:00-05:00</th>\n",
       "      <td>NaN</td>\n",
       "      <td>NaN</td>\n",
       "    </tr>\n",
       "    <tr>\n",
       "      <th>2022-02-18 00:00:00-05:00</th>\n",
       "      <td>-0.014012</td>\n",
       "      <td>-0.006496</td>\n",
       "    </tr>\n",
       "    <tr>\n",
       "      <th>2022-02-22 00:00:00-05:00</th>\n",
       "      <td>-0.008196</td>\n",
       "      <td>-0.010790</td>\n",
       "    </tr>\n",
       "    <tr>\n",
       "      <th>2022-02-23 00:00:00-05:00</th>\n",
       "      <td>-0.014145</td>\n",
       "      <td>-0.017898</td>\n",
       "    </tr>\n",
       "    <tr>\n",
       "      <th>2022-02-24 00:00:00-05:00</th>\n",
       "      <td>0.039108</td>\n",
       "      <td>0.014937</td>\n",
       "    </tr>\n",
       "  </tbody>\n",
       "</table>\n",
       "</div>"
      ],
      "text/plain": [
       "                               GOOG       SPY\n",
       "Date                                         \n",
       "2022-02-17 00:00:00-05:00       NaN       NaN\n",
       "2022-02-18 00:00:00-05:00 -0.014012 -0.006496\n",
       "2022-02-22 00:00:00-05:00 -0.008196 -0.010790\n",
       "2022-02-23 00:00:00-05:00 -0.014145 -0.017898\n",
       "2022-02-24 00:00:00-05:00  0.039108  0.014937"
      ]
     },
     "execution_count": 39,
     "metadata": {},
     "output_type": "execute_result"
    }
   ],
   "source": [
    "returns = np.log(data).diff()\n",
    "returns.head()"
   ]
  },
  {
   "cell_type": "code",
   "execution_count": 43,
   "id": "8e8597a0",
   "metadata": {},
   "outputs": [
    {
     "data": {
      "text/html": [
       "<div>\n",
       "<style scoped>\n",
       "    .dataframe tbody tr th:only-of-type {\n",
       "        vertical-align: middle;\n",
       "    }\n",
       "\n",
       "    .dataframe tbody tr th {\n",
       "        vertical-align: top;\n",
       "    }\n",
       "\n",
       "    .dataframe thead th {\n",
       "        text-align: right;\n",
       "    }\n",
       "</style>\n",
       "<table border=\"1\" class=\"dataframe\">\n",
       "  <thead>\n",
       "    <tr style=\"text-align: right;\">\n",
       "      <th></th>\n",
       "      <th>GOOG</th>\n",
       "      <th>SPY</th>\n",
       "    </tr>\n",
       "  </thead>\n",
       "  <tbody>\n",
       "    <tr>\n",
       "      <th>GOOG</th>\n",
       "      <td>1.000000</td>\n",
       "      <td>0.864875</td>\n",
       "    </tr>\n",
       "    <tr>\n",
       "      <th>SPY</th>\n",
       "      <td>0.864875</td>\n",
       "      <td>1.000000</td>\n",
       "    </tr>\n",
       "  </tbody>\n",
       "</table>\n",
       "</div>"
      ],
      "text/plain": [
       "          GOOG       SPY\n",
       "GOOG  1.000000  0.864875\n",
       "SPY   0.864875  1.000000"
      ]
     },
     "execution_count": 43,
     "metadata": {},
     "output_type": "execute_result"
    }
   ],
   "source": [
    "# Get coorolation\n",
    "#get smaller sample\n",
    "sample= returns.sample(60).corr()\n",
    "sample"
   ]
  },
  {
   "cell_type": "code",
   "execution_count": 51,
   "id": "090c7653",
   "metadata": {},
   "outputs": [
    {
     "data": {
      "image/png": "[encoded data removed]",
      "text/plain": [
       "<Figure size 432x288 with 1 Axes>"
      ]
     },
     "metadata": {},
     "output_type": "display_data"
    }
   ],
   "source": [
    "sample = returns.sample(50)\n",
    "plt.scatter(x=sample[\"SPY\"], y=sample[\"GOOG\"]);"
   ]
  },
  {
   "cell_type": "code",
   "execution_count": 52,
   "id": "00892ce9",
   "metadata": {},
   "outputs": [
    {
     "data": {
      "text/plain": [
       "array([1.25280246e+00, 6.18099652e-04])"
      ]
     },
     "execution_count": 52,
     "metadata": {},
     "output_type": "execute_result"
    }
   ],
   "source": [
    "reg = np.polyfit(sample[\"SPY\"], sample[\"GOOG\"], deg = 1)\n",
    "reg"
   ]
  },
  {
   "cell_type": "code",
   "execution_count": 56,
   "id": "cfcc1f7c",
   "metadata": {},
   "outputs": [
    {
     "data": {
      "text/plain": [
       "[<matplotlib.lines.Line2D at 0x224d95d1b20>]"
      ]
     },
     "execution_count": 56,
     "metadata": {},
     "output_type": "execute_result"
    },
    {
     "data": {
      "image/png": "[encoded data removed]",
      "text/plain": [
       "<Figure size 432x288 with 1 Axes>"
      ]
     },
     "metadata": {},
     "output_type": "display_data"
    }
   ],
   "source": [
    "trend = np.polyval(reg, sample['SPY'])\n",
    "plt.scatter(sample[\"SPY\"], sample[\"GOOG\"])\n",
    "plt.plot(sample[\"SPY\"], trend, \"r\")"
   ]
  },
  {
   "cell_type": "markdown",
   "id": "d38d6051",
   "metadata": {},
   "source": [
    "# Regression as technical Indicator\n"
   ]
  },
  {
   "cell_type": "code",
   "execution_count": 62,
   "id": "bfda2f75",
   "metadata": {},
   "outputs": [
    {
     "name": "stdout",
     "output_type": "stream",
     "text": [
      "[*********************100%***********************]  1 of 1 completed\n"
     ]
    },
    {
     "data": {
      "text/html": [
       "<div>\n",
       "<style scoped>\n",
       "    .dataframe tbody tr th:only-of-type {\n",
       "        vertical-align: middle;\n",
       "    }\n",
       "\n",
       "    .dataframe tbody tr th {\n",
       "        vertical-align: top;\n",
       "    }\n",
       "\n",
       "    .dataframe thead th {\n",
       "        text-align: right;\n",
       "    }\n",
       "</style>\n",
       "<table border=\"1\" class=\"dataframe\">\n",
       "  <thead>\n",
       "    <tr style=\"text-align: right;\">\n",
       "      <th></th>\n",
       "      <th>time</th>\n",
       "      <th>Close</th>\n",
       "    </tr>\n",
       "    <tr>\n",
       "      <th>Date</th>\n",
       "      <th></th>\n",
       "      <th></th>\n",
       "    </tr>\n",
       "  </thead>\n",
       "  <tbody>\n",
       "    <tr>\n",
       "      <th>2023-02-10 00:00:00-05:00</th>\n",
       "      <td>247</td>\n",
       "      <td>408.04</td>\n",
       "    </tr>\n",
       "    <tr>\n",
       "      <th>2023-02-13 00:00:00-05:00</th>\n",
       "      <td>248</td>\n",
       "      <td>412.83</td>\n",
       "    </tr>\n",
       "    <tr>\n",
       "      <th>2023-02-14 00:00:00-05:00</th>\n",
       "      <td>249</td>\n",
       "      <td>412.64</td>\n",
       "    </tr>\n",
       "    <tr>\n",
       "      <th>2023-02-15 00:00:00-05:00</th>\n",
       "      <td>250</td>\n",
       "      <td>413.98</td>\n",
       "    </tr>\n",
       "    <tr>\n",
       "      <th>2023-02-16 00:00:00-05:00</th>\n",
       "      <td>251</td>\n",
       "      <td>408.28</td>\n",
       "    </tr>\n",
       "  </tbody>\n",
       "</table>\n",
       "</div>"
      ],
      "text/plain": [
       "                           time   Close\n",
       "Date                                   \n",
       "2023-02-10 00:00:00-05:00   247  408.04\n",
       "2023-02-13 00:00:00-05:00   248  412.83\n",
       "2023-02-14 00:00:00-05:00   249  412.64\n",
       "2023-02-15 00:00:00-05:00   250  413.98\n",
       "2023-02-16 00:00:00-05:00   251  408.28"
      ]
     },
     "execution_count": 62,
     "metadata": {},
     "output_type": "execute_result"
    }
   ],
   "source": [
    "data = pd.DataFrame(pdr.get_data_yahoo(\"SPY\", start)[\"Close\"])\n",
    "time = np.arange(1, len(data) + 1)\n",
    "data[\"time\"] = time\n",
    "data = data[[\"time\", \"Close\"]]\n",
    "data = round(data, 2)\n",
    "data.tail()"
   ]
  },
  {
   "cell_type": "code",
   "execution_count": 65,
   "id": "fe5c00a3",
   "metadata": {},
   "outputs": [
    {
     "data": {
      "text/plain": [
       "array([-1.75952343e-01,  4.24420354e+02])"
      ]
     },
     "execution_count": 65,
     "metadata": {},
     "output_type": "execute_result"
    }
   ],
   "source": [
    "reg = np.polyfit(data[\"time\"], data[\"Close\"], deg =1)\n",
    "reg"
   ]
  },
  {
   "cell_type": "code",
   "execution_count": 74,
   "id": "6a4188e7",
   "metadata": {},
   "outputs": [
    {
     "data": {
      "text/plain": [
       "[<matplotlib.lines.Line2D at 0x224d9b6daf0>]"
      ]
     },
     "execution_count": 74,
     "metadata": {},
     "output_type": "execute_result"
    },
    {
     "data": {
      "image/png": "[encoded data removed]",
      "text/plain": [
       "<Figure size 720x432 with 1 Axes>"
      ]
     },
     "metadata": {},
     "output_type": "display_data"
    }
   ],
   "source": [
    "trend = np.polyval(reg, data['time'][-63:])\n",
    "std = data['Close'][-63:].std()\n",
    "plt.figure(figsize=(10,6))\n",
    "plt.plot(data[\"time\"], data[\"Close\"], label=\"S&P500\")\n",
    "plt.plot(data['time'][-63:], trend,\"r--\")\n",
    "plt.plot(data['time'][-63:], trend - std,\"g--\")\n",
    "plt.plot(data['time'][-63:], trend + std,\"g--\")"
   ]
  },
  {
   "cell_type": "code",
   "execution_count": 75,
   "id": "fb17badd",
   "metadata": {},
   "outputs": [
    {
     "data": {
      "text/plain": [
       "379.72845866059595"
      ]
     },
     "execution_count": 75,
     "metadata": {},
     "output_type": "execute_result"
    }
   ],
   "source": [
    "predict = np.poly1d(reg)\n",
    "predict(254)"
   ]
  },
  {
   "cell_type": "code",
   "execution_count": 76,
   "id": "734a8a98",
   "metadata": {},
   "outputs": [
    {
     "data": {
      "text/plain": [
       "10.539470426276617"
      ]
     },
     "execution_count": 76,
     "metadata": {},
     "output_type": "execute_result"
    }
   ],
   "source": [
    "std"
   ]
  },
  {
   "cell_type": "markdown",
   "id": "27dd6d9a",
   "metadata": {},
   "source": [
    "# Simple Scatter Plot with trend line\n"
   ]
  },
  {
   "cell_type": "code",
   "execution_count": 77,
   "id": "3fe9e5c7",
   "metadata": {},
   "outputs": [
    {
     "data": {
      "text/plain": [
       "<AxesSubplot:xlabel='time', ylabel='Close'>"
      ]
     },
     "execution_count": 77,
     "metadata": {},
     "output_type": "execute_result"
    },
    {
     "data": {
      "image/png": "[encoded data removed]",
      "text/plain": [
       "<Figure size 432x288 with 1 Axes>"
      ]
     },
     "metadata": {},
     "output_type": "display_data"
    }
   ],
   "source": [
    "sb.regplot(x='time', y = 'Close', fit_reg=True, data=data[-63:])"
   ]
  },
  {
   "cell_type": "code",
   "execution_count": null,
   "id": "d7f94c03",
   "metadata": {},
   "outputs": [],
   "source": []
  }
 ],
 "metadata": {
  "kernelspec": {
   "display_name": "Python 3 (ipykernel)",
   "language": "python",
   "name": "python3"
  },
  "language_info": {
   "codemirror_mode": {
    "name": "ipython",
    "version": 3
   },
   "file_extension": ".py",
   "mimetype": "text/x-python",
   "name": "python",
   "nbconvert_exporter": "python",
   "pygments_lexer": "ipython3",
   "version": "3.9.7"
  }
 },
 "nbformat": 4,
 "nbformat_minor": 5
}
